{
 "cells": [
  {
   "cell_type": "markdown",
   "metadata": {},
   "source": [
    "checkpoints_mri1000 & samples_mri1000 (byobu 2)\n",
    "- mri dataset dcgan, 30 epoch,  z=1000\n",
    "- use checkpoints for recon with forward model (need test set), compare to face, do A subsampling"
   ]
  },
  {
   "cell_type": "code",
   "execution_count": null,
   "metadata": {
    "collapsed": true
   },
   "outputs": [],
   "source": []
  }
 ],
 "metadata": {
  "kernelspec": {
   "display_name": "Python 3",
   "language": "python",
   "name": "python3"
  },
  "language_info": {
   "codemirror_mode": {
    "name": "ipython",
    "version": 3
   },
   "file_extension": ".py",
   "mimetype": "text/x-python",
   "name": "python",
   "nbconvert_exporter": "python",
   "pygments_lexer": "ipython3",
   "version": "3.5.2"
  }
 },
 "nbformat": 4,
 "nbformat_minor": 2
}
