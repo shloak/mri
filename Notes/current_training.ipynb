{
 "cells": [
  {
   "cell_type": "markdown",
   "metadata": {
    "deletable": true,
    "editable": true
   },
   "source": [
    "checkpoints_mri1000 & samples_mri1000 (byobu 2) DONE\n",
    "- mri dataset dcgan, 30 epoch,  z=1000\n",
    "- use checkpoints for recon with forward model (need test set), compare to face, do A subsampling\n",
    "checkpoint_facebig & samples_facebig (byobu 2) DONE\n",
    "- face dataset dcgan,  30 epoch, z=1000, img resized to mri  size\n",
    "- use checkpoints for recon with forward model, compare to face, do A subsampling\n"
   ]
  },
  {
   "cell_type": "code",
   "execution_count": null,
   "metadata": {
    "collapsed": true,
    "deletable": true,
    "editable": true
   },
   "outputs": [],
   "source": []
  }
 ],
 "metadata": {
  "kernelspec": {
   "display_name": "Python 3",
   "language": "python",
   "name": "python3"
  },
  "language_info": {
   "codemirror_mode": {
    "name": "ipython",
    "version": 3
   },
   "file_extension": ".py",
   "mimetype": "text/x-python",
   "name": "python",
   "nbconvert_exporter": "python",
   "pygments_lexer": "ipython3",
   "version": "3.5.2"
  }
 },
 "nbformat": 4,
 "nbformat_minor": 2
}
